{
 "cells": [
  {
   "cell_type": "markdown",
   "id": "69004453-8cf9-47c8-ad15-c93bd4a2200b",
   "metadata": {},
   "source": [
    "## 19th : answer :-"
   ]
  },
  {
   "cell_type": "code",
   "execution_count": 1,
   "id": "dcba448d-5c9c-4c11-be54-d1ce7f0ca9ea",
   "metadata": {},
   "outputs": [],
   "source": [
    "def calculate_mean(numbers):\n",
    "    if len(numbers) == 0:\n",
    "        return None\n",
    "    else:\n",
    "        total_sum = sum(numbers)\n",
    "        mean = total_sum / len(numbers)\n",
    "        return mean\n"
   ]
  },
  {
   "cell_type": "code",
   "execution_count": 2,
   "id": "40e937b9-b9e6-4645-851c-1a9ce473e906",
   "metadata": {},
   "outputs": [
    {
     "name": "stdout",
     "output_type": "stream",
     "text": [
      "3.0\n"
     ]
    }
   ],
   "source": [
    "numbers = [1, 2, 3, 4, 5]\n",
    "result = calculate_mean(numbers)\n",
    "print(result) \n"
   ]
  },
  {
   "cell_type": "code",
   "execution_count": null,
   "id": "6ab75acb-faf5-4947-9a80-0f2da2832ae5",
   "metadata": {},
   "outputs": [],
   "source": []
  },
  {
   "cell_type": "code",
   "execution_count": null,
   "id": "41589fbe-ff1f-4499-8e44-711c81952324",
   "metadata": {},
   "outputs": [],
   "source": []
  },
  {
   "cell_type": "code",
   "execution_count": null,
   "id": "627d4520-48f6-407c-9b15-80e194f26d36",
   "metadata": {},
   "outputs": [],
   "source": []
  },
  {
   "cell_type": "code",
   "execution_count": null,
   "id": "6ddde0e0-cc94-4bbe-901b-212df463bd9d",
   "metadata": {},
   "outputs": [],
   "source": []
  },
  {
   "cell_type": "code",
   "execution_count": null,
   "id": "5e773a21-c913-4342-8777-0bcf05bfd9a4",
   "metadata": {},
   "outputs": [],
   "source": []
  },
  {
   "cell_type": "code",
   "execution_count": null,
   "id": "07ea5431-6778-457e-a295-f1f7dd606d59",
   "metadata": {},
   "outputs": [],
   "source": []
  }
 ],
 "metadata": {
  "kernelspec": {
   "display_name": "Python 3 (ipykernel)",
   "language": "python",
   "name": "python3"
  },
  "language_info": {
   "codemirror_mode": {
    "name": "ipython",
    "version": 3
   },
   "file_extension": ".py",
   "mimetype": "text/x-python",
   "name": "python",
   "nbconvert_exporter": "python",
   "pygments_lexer": "ipython3",
   "version": "3.10.8"
  }
 },
 "nbformat": 4,
 "nbformat_minor": 5
}
